{
  "nbformat": 4,
  "nbformat_minor": 0,
  "metadata": {
    "colab": {
      "provenance": []
    },
    "kernelspec": {
      "name": "python3",
      "display_name": "Python 3"
    },
    "language_info": {
      "name": "python"
    }
  },
  "cells": [
    {
      "cell_type": "code",
      "execution_count": 1,
      "metadata": {
        "id": "brCkrN_O9b-6"
      },
      "outputs": [],
      "source": [
        "import pandas as pd\n",
        "import os\n",
        "file_paths = [\n",
        "    '/content/data_1.csv',\n",
        "    '/content/data_2.csv',\n",
        "    '/content/data_3.csv',\n",
        "    '/content/data_4.csv'\n",
        "]\n"
      ]
    },
    {
      "cell_type": "code",
      "source": [
        "all_sales_data = pd.concat([pd.read_csv(file) for file in file_paths])"
      ],
      "metadata": {
        "id": "XO_lUXRR9wtM"
      },
      "execution_count": 2,
      "outputs": []
    },
    {
      "cell_type": "code",
      "source": [
        "all_sales_data.dropna(subset=['Date', 'Category', 'Quantity', 'Price'], inplace=True)\n",
        "all_sales_data['Discount'].fillna(0, inplace=True)\n",
        "all_sales_data['Net_Price'] = all_sales_data['Price'] * (1 - all_sales_data['Discount'])\n",
        "all_sales_data['Total_Revenue'] = all_sales_data['Quantity'] * all_sales_data['Net_Price']\n",
        "print(all_sales_data.head())"
      ],
      "metadata": {
        "colab": {
          "base_uri": "https://localhost:8080/"
        },
        "id": "OS9BAXBO96vh",
        "outputId": "eecb13f6-f777-46a1-ed9a-504014664fb4"
      },
      "execution_count": 4,
      "outputs": [
        {
          "output_type": "stream",
          "name": "stdout",
          "text": [
            "         Date   Product     Category  Quantity  Price  Discount  Net_Price  \\\n",
            "0  2024-08-01  ProductA  Electronics      10.0  200.0      0.05      190.0   \n",
            "1  2024-08-01  ProductB         Home       5.0  150.0      0.10      135.0   \n",
            "2  2024-08-02  ProductA  Electronics       7.0  200.0      0.00      200.0   \n",
            "3  2024-08-02  ProductC         Home       3.0  100.0      0.00      100.0   \n",
            "4  2024-08-03  ProductD    Furniture       4.0  300.0      0.15      255.0   \n",
            "\n",
            "   Total_Revenue  \n",
            "0         1900.0  \n",
            "1          675.0  \n",
            "2         1400.0  \n",
            "3          300.0  \n",
            "4         1020.0  \n"
          ]
        }
      ]
    },
    {
      "cell_type": "code",
      "source": [
        "summary = all_sales_data.groupby('Product').agg({\n",
        "    'Quantity': 'sum',\n",
        "    'Total_Revenue': 'sum'\n",
        "}).reset_index()\n",
        "print(all_sales_data.head())"
      ],
      "metadata": {
        "colab": {
          "base_uri": "https://localhost:8080/"
        },
        "id": "WxztJlfT-q0K",
        "outputId": "9cb4d37b-2e96-4ffb-e456-ee5af4aca288"
      },
      "execution_count": 8,
      "outputs": [
        {
          "output_type": "stream",
          "name": "stdout",
          "text": [
            "         Date   Product     Category  Quantity  Price  Discount  Net_Price  \\\n",
            "0  2024-08-01  ProductA  Electronics      10.0  200.0      0.05      190.0   \n",
            "1  2024-08-01  ProductB         Home       5.0  150.0      0.10      135.0   \n",
            "2  2024-08-02  ProductA  Electronics       7.0  200.0      0.00      200.0   \n",
            "3  2024-08-02  ProductC         Home       3.0  100.0      0.00      100.0   \n",
            "4  2024-08-03  ProductD    Furniture       4.0  300.0      0.15      255.0   \n",
            "\n",
            "   Total_Revenue  \n",
            "0         1900.0  \n",
            "1          675.0  \n",
            "2         1400.0  \n",
            "3          300.0  \n",
            "4         1020.0  \n"
          ]
        }
      ]
    },
    {
      "cell_type": "code",
      "source": [
        "output_path = os.path.join('/content/data_1.csv', '/content/data_2.csv','/content/data_3.csv','/content/sales_data.xlsx.csv')\n",
        "summary.to_csv(output_path, index=False)"
      ],
      "metadata": {
        "id": "7Lb-jG0qADLm"
      },
      "execution_count": 9,
      "outputs": []
    }
  ]
}